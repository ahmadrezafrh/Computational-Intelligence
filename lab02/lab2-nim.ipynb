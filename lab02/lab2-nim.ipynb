{
 "cells": [
  {
   "cell_type": "markdown",
   "metadata": {
    "pycharm": {
     "name": "#%% md\n"
    }
   },
   "source": [
    "Copyright **`(c)`** 2022 Giovanni Squillero `<squillero@polito.it>`  \n",
    "[`https://github.com/squillero/computational-intelligence`](https://github.com/squillero/computational-intelligence)  \n",
    "Free for personal or classroom use; see [`LICENSE.md`](https://github.com/squillero/computational-intelligence/blob/master/LICENSE.md) for details.  \n"
   ]
  },
  {
   "cell_type": "markdown",
   "metadata": {
    "pycharm": {
     "name": "#%%\n"
    }
   },
   "source": [
    "# Lab 2: ES\n",
    "\n",
    "## Task\n",
    "\n",
    "Write agents able to play [*Nim*](https://en.wikipedia.org/wiki/Nim), with an arbitrary number of rows and an upper bound $k$ on the number of objects that can be removed in a turn (a.k.a., *subtraction game*).\n",
    "\n",
    "The goal of the game is to **avoid** taking the last object.\n",
    "\n",
    "* Task2.1: An agent using fixed rules based on *nim-sum* (i.e., an *expert system*)\n",
    "* Task2.2: An agent using evolved rules using ES\n",
    "\n",
    "## Instructions\n",
    "\n",
    "* Create the directory `lab2` inside your personal course repository for the course \n",
    "* Put a `README.md` and your solution (all the files, code and auxiliary data if needed)\n",
    "\n",
    "## Notes\n",
    "\n",
    "* Working in group is not only allowed, but recommended (see: [Ubuntu](https://en.wikipedia.org/wiki/Ubuntu_philosophy) and [Cooperative Learning](https://files.eric.ed.gov/fulltext/EJ1096789.pdf)). Collaborations must be explicitly declared in the `README.md`.\n",
    "* [Yanking](https://www.emacswiki.org/emacs/KillingAndYanking) from the internet is allowed, but sources must be explicitly declared in the `README.md`.\n",
    "\n"
   ]
  },
  {
   "cell_type": "code",
   "execution_count": 1,
   "metadata": {},
   "outputs": [],
   "source": [
    "import logging\n",
    "from pprint import pprint, pformat\n",
    "from collections import namedtuple\n",
    "import random\n",
    "from copy import deepcopy\n"
   ]
  },
  {
   "cell_type": "markdown",
   "metadata": {},
   "source": [
    "## The *Nim* and *Nimply* classes"
   ]
  },
  {
   "cell_type": "code",
   "execution_count": 2,
   "metadata": {},
   "outputs": [],
   "source": [
    "Nimply = namedtuple(\"Nimply\", \"row, num_objects\")\n"
   ]
  },
  {
   "cell_type": "code",
   "execution_count": 3,
   "metadata": {},
   "outputs": [],
   "source": [
    "'''\n",
    "The traditional Nim-game (aka Marienbad-game) consists of four rows of 1, 3, 5 and 7 matchsticks \n",
    "(or any other objects). Two players take any number of matchsticks from one row alternately. \n",
    "The one, who takes the last matchstick loses. \n",
    "'''\n",
    "\n",
    "\n",
    "\n",
    "class Nim:\n",
    "    def __init__(self, num_rows: int, k: int = None) -> None:\n",
    "        self._rows = [i * 2 + 1 for i in range(num_rows)]\n",
    "        self._k = k\n",
    "\n",
    "    def __bool__(self):\n",
    "        return sum(self._rows) > 0\n",
    "\n",
    "    def __str__(self):\n",
    "        return \"<\" + \" \".join(str(_) for _ in self._rows) + \">\"\n",
    "\n",
    "    @property\n",
    "    def rows(self) -> tuple:\n",
    "        return tuple(self._rows)\n",
    "\n",
    "    def nimming(self, ply: Nimply) -> None:\n",
    "        row, num_objects = ply\n",
    "        assert self._rows[row] >= num_objects\n",
    "        assert self._k is None or num_objects <= self._k\n",
    "        self._rows[row] -= num_objects\n"
   ]
  },
  {
   "cell_type": "markdown",
   "metadata": {},
   "source": [
    "## Sample (and silly) startegies \n",
    "\n",
    "In the \"pure_random\" and \"gabriele\" approach we proceed with the worst methods to wind the game. We have to seek for better strategies. "
   ]
  },
  {
   "cell_type": "code",
   "execution_count": 4,
   "metadata": {},
   "outputs": [],
   "source": [
    "def pure_random(state: Nim) -> Nimply:\n",
    "    \"\"\"A completely random move\"\"\"\n",
    "    row = random.choice([r for r, c in enumerate(state.rows) if c > 0])\n",
    "    num_objects = random.randint(1, state.rows[row])\n",
    "    return Nimply(row, num_objects)\n"
   ]
  },
  {
   "cell_type": "code",
   "execution_count": 5,
   "metadata": {},
   "outputs": [],
   "source": [
    "def gabriele(state: Nim) -> Nimply:\n",
    "    \"\"\"Pick always the maximum possible number of the lowest row\"\"\"\n",
    "    possible_moves = [(r, o) for r, c in enumerate(state.rows) for o in range(1, c + 1)]\n",
    "    return Nimply(*max(possible_moves, key=lambda m: (-m[0], m[1])))\n"
   ]
  },
  {
   "cell_type": "code",
   "execution_count": 6,
   "metadata": {},
   "outputs": [],
   "source": [
    "def adaptive(state: Nim) -> Nimply:\n",
    "    \"\"\"A strategy that can adapt its parameters\"\"\"\n",
    "    genome = {\"love_small\": 0.5}\n"
   ]
  },
  {
   "cell_type": "markdown",
   "metadata": {},
   "source": [
    "### Nim Sum\n",
    "Count the matchsticks in each row... And convert them mentally in multiples of 4, 2 and 1. Then, CANCEL pairs of equal multiples, and add what is left. To win at Nim-game, always make a move, whenever possible, that leaves a configuration with a ZERO “Nim sum”, that is with ZERO unpaired multiple(s) of 4, 2 or 1. Otherwise, your opponent has the advantage, and you have to depend on his/her committing an error in order to win.\n"
   ]
  },
  {
   "cell_type": "code",
   "execution_count": 162,
   "metadata": {},
   "outputs": [],
   "source": [
    "import numpy as np\n",
    "\n",
    "\n",
    "def nim_sum(state: Nim) -> int:\n",
    "    tmp = np.array([tuple(int(x) for x in f\"{c:032b}\") for c in state.rows])\n",
    "    xor = tmp.sum(axis=0) % 2\n",
    "    return int(\"\".join(str(_) for _ in xor), base=2)\n",
    "\n",
    "\n",
    "def analize(raw: Nim) -> dict:\n",
    "    cooked = dict()\n",
    "    cooked[\"possible_moves\"] = dict()\n",
    "    for ply in (Nimply(r, o) for r, c in enumerate(raw.rows) for o in range(1, c + 1)):\n",
    "        tmp = deepcopy(raw)\n",
    "        tmp.nimming(ply)\n",
    "        cooked[\"possible_moves\"][ply] = nim_sum(tmp)\n",
    "    return cooked\n",
    "\n",
    "'''\n",
    "In the optimal method we try to make our oponent in a position which nim_sum is not equal zero. After\n",
    "we collecte all the possible moves with ns!=0, we randomly select from available possible moves.\n",
    "'''\n",
    "\n",
    "def optimal(state: Nim) -> Nimply:\n",
    "    analysis = analize(state)\n",
    "    logging.debug(f\"analysis:\\n{pformat(analysis)}\")\n",
    "    spicy_moves = [ply for ply, ns in analysis[\"possible_moves\"].items() if ns != 0]\n",
    "    if not spicy_moves:\n",
    "        spicy_moves = list(analysis[\"possible_moves\"].keys())\n",
    "    ply = random.choice(spicy_moves)\n",
    "    return ply\n"
   ]
  },
  {
   "cell_type": "markdown",
   "metadata": {},
   "source": [
    "## Oversimplified match"
   ]
  },
  {
   "cell_type": "code",
   "execution_count": 229,
   "metadata": {},
   "outputs": [
    {
     "name": "stderr",
     "output_type": "stream",
     "text": [
      "INFO:root:init : <1 3 5 7 9 11>\n",
      "INFO:root:ply: player 0 plays Nimply(row=5, num_objects=3)\n",
      "INFO:root:status: <1 3 5 7 9 8>\n",
      "INFO:root:ply: player 1 plays Nimply(row=1, num_objects=3)\n",
      "INFO:root:status: <1 0 5 7 9 8>\n",
      "INFO:root:ply: player 0 plays Nimply(row=3, num_objects=3)\n",
      "INFO:root:status: <1 0 5 4 9 8>\n",
      "INFO:root:ply: player 1 plays Nimply(row=2, num_objects=2)\n",
      "INFO:root:status: <1 0 3 4 9 8>\n",
      "INFO:root:ply: player 0 plays Nimply(row=3, num_objects=2)\n",
      "INFO:root:status: <1 0 3 2 9 8>\n",
      "INFO:root:ply: player 1 plays Nimply(row=4, num_objects=4)\n",
      "INFO:root:status: <1 0 3 2 5 8>\n",
      "INFO:root:ply: player 0 plays Nimply(row=5, num_objects=4)\n",
      "INFO:root:status: <1 0 3 2 5 4>\n",
      "INFO:root:ply: player 1 plays Nimply(row=3, num_objects=2)\n",
      "INFO:root:status: <1 0 3 0 5 4>\n",
      "INFO:root:ply: player 0 plays Nimply(row=2, num_objects=2)\n",
      "INFO:root:status: <1 0 1 0 5 4>\n",
      "INFO:root:ply: player 1 plays Nimply(row=5, num_objects=3)\n",
      "INFO:root:status: <1 0 1 0 5 1>\n",
      "INFO:root:ply: player 0 plays Nimply(row=4, num_objects=5)\n",
      "INFO:root:status: <1 0 1 0 0 1>\n",
      "INFO:root:ply: player 1 plays Nimply(row=2, num_objects=1)\n",
      "INFO:root:status: <1 0 0 0 0 1>\n",
      "INFO:root:ply: player 0 plays Nimply(row=5, num_objects=1)\n",
      "INFO:root:status: <1 0 0 0 0 0>\n",
      "INFO:root:ply: player 1 plays Nimply(row=0, num_objects=1)\n",
      "INFO:root:status: <0 0 0 0 0 0>\n",
      "INFO:root:status: Player 0 won!\n"
     ]
    },
    {
     "name": "stdout",
     "output_type": "stream",
     "text": [
      "Nimply(row=5, num_objects=3)\n",
      "Nimply(row=1, num_objects=3)\n",
      "Nimply(row=3, num_objects=3)\n",
      "Nimply(row=2, num_objects=2)\n",
      "Nimply(row=3, num_objects=2)\n",
      "Nimply(row=4, num_objects=4)\n",
      "Nimply(row=5, num_objects=4)\n",
      "Nimply(row=3, num_objects=2)\n",
      "Nimply(row=2, num_objects=2)\n",
      "Nimply(row=5, num_objects=3)\n",
      "Nimply(row=4, num_objects=5)\n",
      "Nimply(row=2, num_objects=1)\n",
      "Nimply(row=5, num_objects=1)\n",
      "Nimply(row=0, num_objects=1)\n"
     ]
    }
   ],
   "source": [
    "'''\n",
    "Now the first player use Optimal algorithm to win. After few run, we notice pure_random algorithm win\n",
    "the oprimal solution. To address the issue we first analyze the wining_rate after 50 epochs to measure\n",
    "the performance our evaluation. We consider two procedures:\n",
    "    \n",
    "    1- Optimal plays first\n",
    "    2- Pure Random palys first\n",
    "'''\n",
    "\n",
    "\n",
    "logging.getLogger().setLevel(logging.INFO)\n",
    "\n",
    "strategy = (alg_optimal, pure_random)\n",
    "\n",
    "nim = Nim(6)\n",
    "logging.info(f\"init : {nim}\")\n",
    "player = 0\n",
    "while nim:\n",
    "    ply = strategy[player](nim)\n",
    "    print(ply)\n",
    "    logging.info(f\"ply: player {player} plays {ply}\")\n",
    "    nim.nimming(ply)\n",
    "    logging.info(f\"status: {nim}\")\n",
    "    player = 1 - player\n",
    "    \n",
    "logging.info(f\"status: Player {player} won!\")\n"
   ]
  },
  {
   "cell_type": "code",
   "execution_count": 246,
   "metadata": {},
   "outputs": [],
   "source": [
    "algorithms = {\n",
    "    'pure_random': pure_random,\n",
    "    'gabriele': gabriele,\n",
    "    'optimal': optimal\n",
    "}\n",
    "\n",
    "\n",
    "def play_nim(strategy, epochs: int) -> None:\n",
    "    player_0 = strategy[0]\n",
    "    player_1 = strategy[1]\n",
    "    scores = {}\n",
    "    scores[0] = {}\n",
    "    scores[1] = {}\n",
    "    scores[0][player_0] = 0\n",
    "    scores[1][player_0] = 0\n",
    "    scores[0][player_1] = 0\n",
    "    scores[1][player_1] = 0\n",
    "    strategy = (algorithms[player_0], algorithms[player_1])\n",
    "\n",
    "    for _ in range(epochs):\n",
    "        for strat in [0,1]:\n",
    "            nim = Nim(5)\n",
    "            player = strat\n",
    "            while nim:\n",
    "                ply = strategy[player](nim)\n",
    "                nim.nimming(ply)\n",
    "                player = 1 - player\n",
    "\n",
    "            if player == 0:\n",
    "                scores[strat][player_0]+=1\n",
    "            else:\n",
    "                scores[strat][player_1]+=1\n",
    "        \n",
    "    print(f'==== Comparing \"{player_0}\" and \"{player_1}\" algorithms ====\\n')\n",
    "    print(f'If player with \"{player_0}\" algorthim starts:')\n",
    "    print(f'Win percebtage for \"{player_0}\" player is: {round((scores[0][player_0]/epochs)*100, 2)}%')\n",
    "    print(f'Win percebtage for \"{player_1}\" player is: {round((scores[0][player_1]/epochs)*100, 2)}%\\n')\n",
    "    print(20*'----')\n",
    "    print(f'\\nIf player with \"{player_1}\" algorthim starts:')\n",
    "    print(f'Win percebtage for \"{player_0}\" player is: {round((scores[1][player_0]/epochs)*100, 2)}%')\n",
    "    print(f'Win percebtage for \"{player_1}\" player is: {round((scores[1][player_1]/epochs)*100, 2)}%')"
   ]
  },
  {
   "cell_type": "code",
   "execution_count": 300,
   "metadata": {},
   "outputs": [
    {
     "name": "stdout",
     "output_type": "stream",
     "text": [
      "==== Comparing \"optimal\" and \"pure_random\" algorithms ====\n",
      "\n",
      "If player with \"optimal\" algorthim starts:\n",
      "Win percebtage for \"optimal\" player is: 78.0%\n",
      "Win percebtage for \"pure_random\" player is: 22.0%\n",
      "\n",
      "--------------------------------------------------------------------------------\n",
      "\n",
      "If player with \"pure_random\" algorthim starts:\n",
      "Win percebtage for \"optimal\" player is: 71.0%\n",
      "Win percebtage for \"pure_random\" player is: 29.0%\n"
     ]
    }
   ],
   "source": [
    "strategy = ('optimal', 'pure_random')\n",
    "epochs = 100\n",
    "\n",
    "play_nim(strategy, epochs)\n",
    "\n",
    "'''\n",
    "We can see that \"optimal\" algorithm works better than randomly selected moves.\n",
    "However, we have the results are still poor. \n",
    "'''"
   ]
  },
  {
   "cell_type": "code",
   "execution_count": 301,
   "metadata": {},
   "outputs": [
    {
     "name": "stdout",
     "output_type": "stream",
     "text": [
      "==== Comparing \"optimal\" and \"gabriele\" algorithms ====\n",
      "\n",
      "If player with \"optimal\" algorthim starts:\n",
      "Win percebtage for \"optimal\" player is: 86.0%\n",
      "Win percebtage for \"gabriele\" player is: 14.0%\n",
      "\n",
      "--------------------------------------------------------------------------------\n",
      "\n",
      "If player with \"gabriele\" algorthim starts:\n",
      "Win percebtage for \"optimal\" player is: 86.0%\n",
      "Win percebtage for \"gabriele\" player is: 14.0%\n"
     ]
    }
   ],
   "source": [
    "strategy = ('optimal', 'gabriele')\n",
    "epochs = 100\n",
    "\n",
    "play_nim(strategy, epochs)\n",
    "\n",
    "'''\n",
    "Compared to \"gabriele\" algorithm we have better results in optimal. \n",
    "Gabriele, is an absolute non-effective algorithm.\n",
    "'''"
   ]
  },
  {
   "cell_type": "markdown",
   "metadata": {},
   "source": [
    "## Task2.1: An agent using fixed rules based on nim-sum (i.e., an expert system)\n",
    "\n",
    "I have managed to define three algorithms to address NIM game:\n",
    "\n",
    "    1- min_optimal : In this method, e select the first move which have the minimum nim_sum and it is not zero (if exists)\n",
    "    \n",
    "    2- min_optimal_odd : Like min_optimal, except we consider minimum odd move\n",
    "    \n",
    "    3- min_optimal_even : Like min_optimal, except we consider minimum even move\n",
    "    \n",
    "At the end I will try to compare the results for each algorithm with previous algorithms."
   ]
  },
  {
   "cell_type": "code",
   "execution_count": 289,
   "metadata": {},
   "outputs": [],
   "source": [
    "'''\n",
    "We now define a new algorithm.\n",
    "'''\n",
    "\n",
    "\n",
    "def min_optimal(state: Nim) -> Nimply:\n",
    "    analysis = analize(state)\n",
    "    logging.debug(f\"analysis:\\n{pformat(analysis)}\")\n",
    "    all_moves = [(ply, ns) for ply, ns in analysis[\"possible_moves\"].items()]\n",
    "    spicy_moves = sorted(all_moves, key=lambda x:x[1])\n",
    "    lowest_sn_not_zero = 0 \n",
    "    for mov in spicy_moves: \n",
    "        if mov[1] != 0:\n",
    "            lowest_sn_not_zero = mov[1]\n",
    "            break\n",
    "    new_sm = [mov for mov in spicy_moves if mov[1]==lowest_sn_not_zero]\n",
    "    return new_sm[-1][0]\n",
    "\n",
    "algorithms['min_optimal'] = min_optimal"
   ]
  },
  {
   "cell_type": "code",
   "execution_count": 290,
   "metadata": {},
   "outputs": [
    {
     "name": "stdout",
     "output_type": "stream",
     "text": [
      "==== Comparing \"min_optimal\" and \"pure_random\" algorithms ====\n",
      "\n",
      "If player with \"min_optimal\" algorthim starts:\n",
      "Win percebtage for \"min_optimal\" player is: 91.0%\n",
      "Win percebtage for \"pure_random\" player is: 9.0%\n",
      "\n",
      "--------------------------------------------------------------------------------\n",
      "\n",
      "If player with \"pure_random\" algorthim starts:\n",
      "Win percebtage for \"min_optimal\" player is: 93.0%\n",
      "Win percebtage for \"pure_random\" player is: 7.0%\n"
     ]
    }
   ],
   "source": [
    "strategy = ('min_optimal', 'pure_random')\n",
    "epochs = 100\n",
    "\n",
    "play_nim(strategy, epochs)\n",
    "\n",
    "'''\n",
    "We have great results on this approach. We outperform the 'optimal' version.\n",
    "'''"
   ]
  },
  {
   "cell_type": "code",
   "execution_count": 304,
   "metadata": {},
   "outputs": [
    {
     "name": "stdout",
     "output_type": "stream",
     "text": [
      "==== Comparing \"min_optimal\" and \"optimal\" algorithms ====\n",
      "\n",
      "If player with \"min_optimal\" algorthim starts:\n",
      "Win percebtage for \"min_optimal\" player is: 100.0%\n",
      "Win percebtage for \"optimal\" player is: 0.0%\n",
      "\n",
      "--------------------------------------------------------------------------------\n",
      "\n",
      "If player with \"optimal\" algorthim starts:\n",
      "Win percebtage for \"min_optimal\" player is: 100.0%\n",
      "Win percebtage for \"optimal\" player is: 0.0%\n"
     ]
    }
   ],
   "source": [
    "strategy = ('min_optimal', 'optimal')\n",
    "epochs = 100\n",
    "\n",
    "play_nim(strategy, epochs)\n",
    "\n",
    "'''\n",
    "With the min_optimal method we always win against proposed 'optimal' method.\n",
    "''' "
   ]
  },
  {
   "cell_type": "code",
   "execution_count": 279,
   "metadata": {},
   "outputs": [],
   "source": [
    "def min_optimal_even(state: Nim) -> Nimply:\n",
    "    analysis = analize(state)\n",
    "    logging.debug(f\"analysis:\\n{pformat(analysis)}\")\n",
    "    all_moves = [(ply, ns) for ply, ns in analysis[\"possible_moves\"].items()]\n",
    "    spicy_moves = sorted(all_moves, key=lambda x:x[1])\n",
    "    lowest_sn_not_zero = 0 \n",
    "    for mov in spicy_moves: \n",
    "        if mov[1] != 0 and mov[1]%2 == 0:\n",
    "            lowest_sn_not_zero = mov[1]\n",
    "            break\n",
    "    new_sm = [mov for mov in spicy_moves if mov[1]==lowest_sn_not_zero]\n",
    "    if len(new_sm)==0:\n",
    "        return spicy_moves[0][0]\n",
    "    return new_sm[-1][0]\n",
    "\n",
    "algorithms['min_optimal_even'] = min_optimal_even"
   ]
  },
  {
   "cell_type": "code",
   "execution_count": 280,
   "metadata": {},
   "outputs": [
    {
     "name": "stdout",
     "output_type": "stream",
     "text": [
      "==== Comparing \"min_optimal_even\" and \"pure_random\" algorithms ====\n",
      "\n",
      "If player with \"min_optimal_even\" algorthim starts:\n",
      "Win percebtage for \"min_optimal_even\" player is: 48.0%\n",
      "Win percebtage for \"pure_random\" player is: 52.0%\n",
      "\n",
      "--------------------------------------------------------------------------------\n",
      "\n",
      "If player with \"pure_random\" algorthim starts:\n",
      "Win percebtage for \"min_optimal_even\" player is: 58.0%\n",
      "Win percebtage for \"pure_random\" player is: 42.0%\n"
     ]
    }
   ],
   "source": [
    "strategy = ('min_optimal_even', 'pure_random')\n",
    "epochs = 100\n",
    "\n",
    "play_nim(strategy, epochs)\n",
    "\n",
    "'''\n",
    "We obtain very bad results. However, we conclude that selecting even nim_sums lower the performance.\n",
    "'''"
   ]
  },
  {
   "cell_type": "code",
   "execution_count": 284,
   "metadata": {},
   "outputs": [],
   "source": [
    "def min_optimal_odd(state: Nim) -> Nimply:\n",
    "    analysis = analize(state)\n",
    "    logging.debug(f\"analysis:\\n{pformat(analysis)}\")\n",
    "    all_moves = [(ply, ns) for ply, ns in analysis[\"possible_moves\"].items()]\n",
    "    spicy_moves = sorted(all_moves, key=lambda x:x[1])\n",
    "    lowest_sn_not_zero = 0 \n",
    "    for mov in spicy_moves: \n",
    "        if mov[1] != 0 and mov[1]%2 == 1:\n",
    "            lowest_sn_not_zero = mov[1]\n",
    "            break\n",
    "    new_sm = [mov for mov in spicy_moves if mov[1]==lowest_sn_not_zero]\n",
    "    if len(new_sm)==0:\n",
    "        return spicy_moves[0][0]\n",
    "    return new_sm[-1][0]\n",
    "\n",
    "algorithms['min_optimal_odd'] = min_optimal_odd"
   ]
  },
  {
   "cell_type": "code",
   "execution_count": 302,
   "metadata": {},
   "outputs": [
    {
     "name": "stdout",
     "output_type": "stream",
     "text": [
      "==== Comparing \"min_optimal_odd\" and \"pure_random\" algorithms ====\n",
      "\n",
      "If player with \"min_optimal_odd\" algorthim starts:\n",
      "Win percebtage for \"min_optimal_odd\" player is: 96.0%\n",
      "Win percebtage for \"pure_random\" player is: 4.0%\n",
      "\n",
      "--------------------------------------------------------------------------------\n",
      "\n",
      "If player with \"pure_random\" algorthim starts:\n",
      "Win percebtage for \"min_optimal_odd\" player is: 98.0%\n",
      "Win percebtage for \"pure_random\" player is: 2.0%\n"
     ]
    }
   ],
   "source": [
    "strategy = ('min_optimal_odd', 'pure_random')\n",
    "epochs = 100\n",
    "\n",
    "play_nim(strategy, epochs)\n",
    "\n",
    "\n",
    "'''\n",
    "We obtain best results. We managed to win 97% of the times over 200 epoch on average.\n",
    "'''"
   ]
  },
  {
   "cell_type": "code",
   "execution_count": 303,
   "metadata": {},
   "outputs": [
    {
     "name": "stdout",
     "output_type": "stream",
     "text": [
      "==== Comparing \"min_optimal_odd\" and \"optimal\" algorithms ====\n",
      "\n",
      "If player with \"min_optimal_odd\" algorthim starts:\n",
      "Win percebtage for \"min_optimal_odd\" player is: 100.0%\n",
      "Win percebtage for \"optimal\" player is: 0.0%\n",
      "\n",
      "--------------------------------------------------------------------------------\n",
      "\n",
      "If player with \"optimal\" algorthim starts:\n",
      "Win percebtage for \"min_optimal_odd\" player is: 100.0%\n",
      "Win percebtage for \"optimal\" player is: 0.0%\n"
     ]
    }
   ],
   "source": [
    "strategy = ('min_optimal_odd', 'optimal')\n",
    "epochs = 100\n",
    "\n",
    "play_nim(strategy, epochs)\n",
    "\n",
    "\n",
    "'''\n",
    "With the min_optimal_odd method we always win against proposed 'optimal' method.\n",
    "''' "
   ]
  },
  {
   "cell_type": "code",
   "execution_count": 294,
   "metadata": {},
   "outputs": [
    {
     "name": "stdout",
     "output_type": "stream",
     "text": [
      "==== Comparing \"min_optimal_odd\" and \"min_optimal\" algorithms ====\n",
      "\n",
      "If player with \"min_optimal_odd\" algorthim starts:\n",
      "Win percebtage for \"min_optimal_odd\" player is: 100.0%\n",
      "Win percebtage for \"min_optimal\" player is: 0.0%\n",
      "\n",
      "--------------------------------------------------------------------------------\n",
      "\n",
      "If player with \"min_optimal\" algorthim starts:\n",
      "Win percebtage for \"min_optimal_odd\" player is: 0.0%\n",
      "Win percebtage for \"min_optimal\" player is: 100.0%\n"
     ]
    }
   ],
   "source": [
    "'''\n",
    "Now let's compare two best approaches until now.\n",
    "'''\n",
    "\n",
    "strategy = ('min_optimal_odd', 'min_optimal')\n",
    "epochs = 100\n",
    "\n",
    "play_nim(strategy, epochs)\n",
    "\n",
    "'''\n",
    "We can see that selecting lower odd number always wins the 'min_optimal' method.\n",
    "'''"
   ]
  },
  {
   "cell_type": "code",
   "execution_count": 295,
   "metadata": {},
   "outputs": [
    {
     "name": "stdout",
     "output_type": "stream",
     "text": [
      "==== Comparing \"min_optimal_odd\" and \"gabriele\" algorithms ====\n",
      "\n",
      "If player with \"min_optimal_odd\" algorthim starts:\n",
      "Win percebtage for \"min_optimal_odd\" player is: 100.0%\n",
      "Win percebtage for \"gabriele\" player is: 0.0%\n",
      "\n",
      "--------------------------------------------------------------------------------\n",
      "\n",
      "If player with \"gabriele\" algorthim starts:\n",
      "Win percebtage for \"min_optimal_odd\" player is: 100.0%\n",
      "Win percebtage for \"gabriele\" player is: 0.0%\n"
     ]
    }
   ],
   "source": [
    "strategy = ('min_optimal_odd', 'gabriele')\n",
    "epochs = 100\n",
    "\n",
    "play_nim(strategy, epochs)"
   ]
  },
  {
   "cell_type": "code",
   "execution_count": 305,
   "metadata": {},
   "outputs": [
    {
     "name": "stdout",
     "output_type": "stream",
     "text": [
      "==== Comparing \"min_optimal\" and \"gabriele\" algorithms ====\n",
      "\n",
      "If player with \"min_optimal\" algorthim starts:\n",
      "Win percebtage for \"min_optimal\" player is: 100.0%\n",
      "Win percebtage for \"gabriele\" player is: 0.0%\n",
      "\n",
      "--------------------------------------------------------------------------------\n",
      "\n",
      "If player with \"gabriele\" algorthim starts:\n",
      "Win percebtage for \"min_optimal\" player is: 100.0%\n",
      "Win percebtage for \"gabriele\" player is: 0.0%\n"
     ]
    }
   ],
   "source": [
    "strategy = ('min_optimal', 'gabriele')\n",
    "epochs = 100\n",
    "\n",
    "play_nim(strategy, epochs)"
   ]
  },
  {
   "cell_type": "code",
   "execution_count": null,
   "metadata": {},
   "outputs": [],
   "source": []
  }
 ],
 "metadata": {
  "kernelspec": {
   "display_name": "Python 3 (ipykernel)",
   "language": "python",
   "name": "python3"
  },
  "language_info": {
   "codemirror_mode": {
    "name": "ipython",
    "version": 3
   },
   "file_extension": ".py",
   "mimetype": "text/x-python",
   "name": "python",
   "nbconvert_exporter": "python",
   "pygments_lexer": "ipython3",
   "version": "3.10.12"
  },
  "vscode": {
   "interpreter": {
    "hash": "10197e8e2f2aa67e2c349105091c77f4cd384fce4877865f002d9ec653f96bc0"
   }
  }
 },
 "nbformat": 4,
 "nbformat_minor": 2
}
