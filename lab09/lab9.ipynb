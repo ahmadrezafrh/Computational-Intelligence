{
 "cells": [
  {
   "cell_type": "markdown",
   "metadata": {},
   "source": [
    "Copyright **`(c)`** 2023 Giovanni Squillero `<giovanni.squillero@polito.it>`  \n",
    "[`https://github.com/squillero/computational-intelligence`](https://github.com/squillero/computational-intelligence)  \n",
    "Free for personal or classroom use; see [`LICENSE.md`](https://github.com/squillero/computational-intelligence/blob/master/LICENSE.md) for details.  "
   ]
  },
  {
   "cell_type": "markdown",
   "metadata": {},
   "source": [
    "# LAB9\n",
    "\n",
    "Write a local-search algorithm (eg. an EA) able to solve the *Problem* instances 1, 2, 5, and 10 on a 1000-loci genomes, using a minimum number of fitness calls. That's all.\n",
    "\n",
    "### Deadlines:\n",
    "\n",
    "* Submission: Sunday, December 3 ([CET](https://www.timeanddate.com/time/zones/cet))\n",
    "* Reviews: Sunday, December 10 ([CET](https://www.timeanddate.com/time/zones/cet))\n",
    "\n",
    "Notes:\n",
    "\n",
    "* Reviews will be assigned  on Monday, December 4\n",
    "* You need to commit in order to be selected as a reviewer (ie. better to commit an empty work than not to commit)"
   ]
  },
  {
   "cell_type": "code",
   "execution_count": 157,
   "metadata": {},
   "outputs": [],
   "source": [
    "from random import choices\n",
    "from random import choice, randint\n",
    "from functools import reduce\n",
    "from collections import namedtuple\n",
    "from dataclasses import dataclass\n",
    "from copy import copy\n",
    "from tqdm import trange\n",
    "from pprint import pprint\n",
    "import random\n",
    "import numpy as np\n",
    "import matplotlib.pyplot as plt\n",
    "from matplotlib.ticker import MaxNLocator\n",
    "# import lab9_lib"
   ]
  },
  {
   "cell_type": "code",
   "execution_count": 97,
   "metadata": {},
   "outputs": [],
   "source": [
    "# Copyright © 2023 Giovanni Squillero <giovanni.squillero@polito.it>\n",
    "# https://github.com/squillero/computational-intelligence\n",
    "# Free for personal or classroom use; see 'LICENSE.md' for details.\n",
    "\n",
    "from abc import abstractmethod\n",
    "\n",
    "\n",
    "class AbstractProblem:\n",
    "    def __init__(self):\n",
    "        self._calls = 0\n",
    "\n",
    "    @property\n",
    "    @abstractmethod\n",
    "    def x(self):\n",
    "        pass\n",
    "\n",
    "    @property\n",
    "    def calls(self):\n",
    "        return self._calls\n",
    "\n",
    "    @staticmethod\n",
    "    def onemax(genome):\n",
    "        return sum(bool(g) for g in genome)\n",
    "\n",
    "    def __call__(self, genome):\n",
    "        self._calls += 1\n",
    "        fitnesses = sorted((AbstractProblem.onemax(genome[s :: self.x]) for s in range(self.x)), reverse=True)\n",
    "        val = sum(f for f in fitnesses if f == fitnesses[0]) - sum(\n",
    "            f * (0.1 ** (k + 1)) for k, f in enumerate(f for f in fitnesses if f < fitnesses[0])\n",
    "        )\n",
    "        return val / len(genome)\n",
    "\n",
    "\n",
    "def make_problem(a):\n",
    "    class Problem(AbstractProblem):\n",
    "        @property\n",
    "        @abstractmethod\n",
    "        def x(self):\n",
    "            return a\n",
    "\n",
    "    return Problem()"
   ]
  },
  {
   "cell_type": "code",
   "execution_count": 98,
   "metadata": {},
   "outputs": [],
   "source": [
    "N_GENERATIONS = 50_000\n",
    "GENES = 1_000\n",
    "POPULATION_SIZE = 30\n",
    "OFFSPRING_SIZE = 20\n",
    "TOURNAMENT_SIZE = 2\n",
    "MUTATION_PROBABILITY = .15"
   ]
  },
  {
   "cell_type": "code",
   "execution_count": 173,
   "metadata": {},
   "outputs": [],
   "source": [
    "@dataclass\n",
    "class Individual:\n",
    "    fitness: tuple\n",
    "    genotype: list[bool]\n",
    "\n",
    "def select_parent(pop):\n",
    "    pool = [choice(pop) for _ in range(TOURNAMENT_SIZE)]\n",
    "    champion = max(pool, key=lambda i: i.fitness)\n",
    "    return champion\n",
    "\n",
    "def mutate(ind: Individual) -> Individual:\n",
    "    offspring = copy(ind)\n",
    "    mut_point = random.sample(range(1, GENES-1), NUM_MUTS)\n",
    "    for pos in mut_point:\n",
    "        offspring.genotype[pos] = abs(offspring.genotype[pos] - 1)\n",
    "    offspring.fitness = None\n",
    "    return offspring\n",
    "\n",
    "def one_cut_xover(ind1: Individual, ind2: Individual) -> Individual:\n",
    "    cut_point = randint(0, GENES-1)\n",
    "    offspring = Individual(fitness=None,\n",
    "                           genotype=ind1.genotype[:cut_point] + ind2.genotype[cut_point:])\n",
    "    assert len(offspring.genotype) == GENES\n",
    "    return offspring\n",
    "\n",
    "def create_offspring(ind_list: list, cut_points: list )-> Individual:\n",
    "    offspring_genotype = []\n",
    "    for i in range(len(ind_list)):\n",
    "        offspring_genotype.extend(ind_list[i].genotype[cut_points[i]:cut_points[i+1]])\n",
    "    \n",
    "    offspring = Individual(fitness=None,\n",
    "                           genotype=offspring_genotype)\n",
    "    return offspring\n",
    "\n",
    "def cut_multiple(ind_list: list) -> Individual:\n",
    "    cut_points = random.sample(range(1, GENES-1), len(ind_list)-1)\n",
    "    cut_points.sort()\n",
    "    cut_points[:0] = [0]\n",
    "    cut_points.append(GENES)\n",
    "    offspring = create_offspring(ind_list, cut_points)\n",
    "    assert len(offspring.genotype) == GENES\n",
    "    return offspring\n",
    "\n",
    "def create_population(genes):\n",
    "    population = [\n",
    "        Individual(\n",
    "            genotype=choices([0, 1], k=genes),\n",
    "            fitness=None,\n",
    "        )\n",
    "        for _ in range(POPULATION_SIZE)\n",
    "    ]\n",
    "\n",
    "\n",
    "    for i in population:\n",
    "        i.fitness = fitness(i.genotype)\n",
    "    \n",
    "    return population\n",
    "\n",
    "def plot_fitness(fitnesses: list) -> None:\n",
    "\n",
    "    plt.plot(fitnesses, label=f'Problem Instances={PROBLEMS}')\n",
    "    plt.title(\"Best Fitness Values\")\n",
    "    plt.xlabel(\"Steps\")\n",
    "    plt.ylabel(\"Fitness\")\n",
    "    plt.grid()\n",
    "    plt.legend()\n",
    "    plt.show()\n"
   ]
  },
  {
   "cell_type": "code",
   "execution_count": 198,
   "metadata": {
    "scrolled": true
   },
   "outputs": [
    {
     "name": "stderr",
     "output_type": "stream",
     "text": [
      "  0%|        | 185/50000 [00:24<1:48:03,  7.68it/s, fitness=99.40%, calls=75000]\n"
     ]
    }
   ],
   "source": [
    "N_GENERATIONS = 50_000\n",
    "GENES = 1_000\n",
    "POPULATION_SIZE = 600\n",
    "OFFSPRING_SIZE = 400\n",
    "TOURNAMENT_SIZE = 20\n",
    "PATIENCE = 10\n",
    "NUM_MUTS = 10\n",
    "MUT_SPRINGS = 100\n",
    "PROBLEMS = 1\n",
    "\n",
    "\n",
    "fitness = make_problem(PROBLEMS)\n",
    "population = create_population(GENES)\n",
    "pbar = trange(N_GENERATIONS)\n",
    "mutation = False\n",
    "best_fitnesses = []\n",
    "best_fit = 0\n",
    "p_count = 0\n",
    "m_count = 0\n",
    "tot_mutations=0\n",
    "\n",
    "for generation in pbar:\n",
    "    offspring = list()\n",
    "    for counter in range(OFFSPRING_SIZE):\n",
    "        if mutation:  \n",
    "            p = select_parent(population)\n",
    "            o = mutate(p)\n",
    "            m_count += 1\n",
    "            if m_count>=MUT_SPRINGS:\n",
    "                m_count=0\n",
    "                p_count=0\n",
    "                mutation=False\n",
    "        else:\n",
    "            pops = [select_parent(population) for _ in range(TOURNAMENT_SIZE)]\n",
    "            o = cut_multiple(pops)\n",
    "        offspring.append(o)\n",
    "\n",
    "    for i in offspring:\n",
    "        i.fitness = fitness(i.genotype)\n",
    "    population.extend(offspring)\n",
    "    population.sort(key=lambda i: i.fitness, reverse=True)\n",
    "    population = population[:POPULATION_SIZE]\n",
    "    if population[0].fitness <= best_fit:\n",
    "        p_count+=1\n",
    "    if p_count == PATIENCE:\n",
    "        mutation = True\n",
    "        tot_mutations+=1\n",
    "    best_fit = population[0].fitness\n",
    "    best_fitnesses.append(population[0].fitness)\n",
    "    pbar.set_postfix({f\"fitness\": f\"{best_fit:.2%}\", f\"calls\": f\"{fitness.calls}\"})\n",
    "    pbar.update(0)\n",
    "    if tot_mutations>10 or best_fit==1:\n",
    "        break\n",
    "    "
   ]
  },
  {
   "cell_type": "code",
   "execution_count": 199,
   "metadata": {},
   "outputs": [
    {
     "data": {
      "image/png": "[encoded data removed]",
      "text/plain": [
       "<Figure size 432x288 with 1 Axes>"
      ]
     },
     "metadata": {
      "needs_background": "light"
     },
     "output_type": "display_data"
    }
   ],
   "source": [
    "plot_fitness(best_fitnesses)"
   ]
  },
  {
   "cell_type": "code",
   "execution_count": 203,
   "metadata": {},
   "outputs": [
    {
     "name": "stderr",
     "output_type": "stream",
     "text": [
      "  1%|       | 566/50000 [01:11<1:43:55,  7.93it/s, fitness=83.60%, calls=227400]\n"
     ]
    }
   ],
   "source": [
    "N_GENERATIONS = 50_000\n",
    "GENES = 1_000\n",
    "POPULATION_SIZE = 600\n",
    "OFFSPRING_SIZE = 400\n",
    "TOURNAMENT_SIZE = 20\n",
    "PATIENCE = 10\n",
    "NUM_MUTS = 10\n",
    "MUT_SPRINGS = 100\n",
    "PROBLEMS = 2\n",
    "\n",
    "\n",
    "fitness = make_problem(PROBLEMS)\n",
    "population = create_population(GENES)\n",
    "pbar = trange(N_GENERATIONS)\n",
    "mutation = False\n",
    "best_fitnesses = []\n",
    "best_fit = 0\n",
    "p_count = 0\n",
    "m_count = 0\n",
    "tot_mutations=0\n",
    "\n",
    "for generation in pbar:\n",
    "    offspring = list()\n",
    "    for counter in range(OFFSPRING_SIZE):\n",
    "        if mutation:  \n",
    "            p = select_parent(population)\n",
    "            o = mutate(p)\n",
    "            m_count += 1\n",
    "            if m_count>=MUT_SPRINGS:\n",
    "                m_count=0\n",
    "                p_count=0\n",
    "                mutation=False\n",
    "        else:\n",
    "            pops = [select_parent(population) for _ in range(TOURNAMENT_SIZE)]\n",
    "            o = cut_multiple(pops)\n",
    "        offspring.append(o)\n",
    "\n",
    "    for i in offspring:\n",
    "        i.fitness = fitness(i.genotype)\n",
    "    population.extend(offspring)\n",
    "    population.sort(key=lambda i: i.fitness, reverse=True)\n",
    "    population = population[:POPULATION_SIZE]\n",
    "    if population[0].fitness <= best_fit:\n",
    "        p_count+=1\n",
    "    if p_count == PATIENCE:\n",
    "        mutation = True\n",
    "        tot_mutations+=1\n",
    "    best_fit = population[0].fitness\n",
    "    best_fitnesses.append(population[0].fitness)\n",
    "    pbar.set_postfix({f\"fitness\": f\"{best_fit:.2%}\", f\"calls\": f\"{fitness.calls}\"})\n",
    "    pbar.update(0)\n",
    "    if tot_mutations>50 or best_fit==1:\n",
    "        break\n",
    "    "
   ]
  },
  {
   "cell_type": "code",
   "execution_count": 204,
   "metadata": {},
   "outputs": [
    {
     "data": {
      "image/png": "[encoded data removed]",
      "text/plain": [
       "<Figure size 432x288 with 1 Axes>"
      ]
     },
     "metadata": {
      "needs_background": "light"
     },
     "output_type": "display_data"
    }
   ],
   "source": [
    "plot_fitness(best_fitnesses)"
   ]
  },
  {
   "cell_type": "code",
   "execution_count": 208,
   "metadata": {},
   "outputs": [
    {
     "name": "stderr",
     "output_type": "stream",
     "text": [
      "  1%|       | 514/50000 [03:04<4:56:16,  2.78it/s, fitness=50.50%, calls=361400]\n"
     ]
    }
   ],
   "source": [
    "N_GENERATIONS = 50_000\n",
    "GENES = 1_000\n",
    "POPULATION_SIZE = 900\n",
    "OFFSPRING_SIZE = 700\n",
    "TOURNAMENT_SIZE = 30\n",
    "PATIENCE = 10\n",
    "NUM_MUTS = 5\n",
    "MUT_SPRINGS = 400\n",
    "PROBLEMS = 5\n",
    "\n",
    "\n",
    "fitness = make_problem(PROBLEMS)\n",
    "population = create_population(GENES)\n",
    "pbar = trange(N_GENERATIONS)\n",
    "mutation = False\n",
    "best_fitnesses = []\n",
    "best_fit = 0\n",
    "p_count = 0\n",
    "m_count = 0\n",
    "tot_mutations=0\n",
    "\n",
    "for generation in pbar:\n",
    "    offspring = list()\n",
    "    for counter in range(OFFSPRING_SIZE):\n",
    "        if mutation:  \n",
    "            p = select_parent(population)\n",
    "            o = mutate(p)\n",
    "            m_count += 1\n",
    "            if m_count>=MUT_SPRINGS:\n",
    "                m_count=0\n",
    "                p_count=0\n",
    "                mutation=False\n",
    "        else:\n",
    "            pops = [select_parent(population) for _ in range(TOURNAMENT_SIZE)]\n",
    "            o = cut_multiple(pops)\n",
    "        offspring.append(o)\n",
    "\n",
    "    for i in offspring:\n",
    "        i.fitness = fitness(i.genotype)\n",
    "    population.extend(offspring)\n",
    "    population.sort(key=lambda i: i.fitness, reverse=True)\n",
    "    population = population[:POPULATION_SIZE]\n",
    "    if population[0].fitness <= best_fit:\n",
    "        p_count+=1\n",
    "    if p_count == PATIENCE:\n",
    "        mutation = True\n",
    "        tot_mutations+=1\n",
    "    best_fit = population[0].fitness\n",
    "    best_fitnesses.append(population[0].fitness)\n",
    "    pbar.set_postfix({f\"fitness\": f\"{best_fit:.2%}\", f\"calls\": f\"{fitness.calls}\"})\n",
    "    pbar.update(0)\n",
    "    if tot_mutations>50 or best_fit==1:\n",
    "        break\n",
    "    "
   ]
  },
  {
   "cell_type": "code",
   "execution_count": 209,
   "metadata": {},
   "outputs": [
    {
     "data": {
      "image/png": "[encoded data removed]",
      "text/plain": [
       "<Figure size 432x288 with 1 Axes>"
      ]
     },
     "metadata": {
      "needs_background": "light"
     },
     "output_type": "display_data"
    }
   ],
   "source": [
    "plot_fitness(best_fitnesses)"
   ]
  },
  {
   "cell_type": "code",
   "execution_count": 214,
   "metadata": {},
   "outputs": [
    {
     "name": "stderr",
     "output_type": "stream",
     "text": [
      "  1%|       | 518/50000 [01:32<2:27:37,  5.59it/s, fitness=37.23%, calls=312400]\n"
     ]
    }
   ],
   "source": [
    "N_GENERATIONS = 50_000\n",
    "GENES = 1_000\n",
    "POPULATION_SIZE = 1000\n",
    "OFFSPRING_SIZE = 600\n",
    "TOURNAMENT_SIZE = 20\n",
    "PATIENCE = 10\n",
    "NUM_MUTS = 2\n",
    "MUT_SPRINGS = 300\n",
    "PROBLEMS = 10\n",
    "\n",
    "\n",
    "fitness = make_problem(PROBLEMS)\n",
    "population = create_population(GENES)\n",
    "pbar = trange(N_GENERATIONS)\n",
    "mutation = False\n",
    "best_fitnesses = []\n",
    "best_fit = 0\n",
    "p_count = 0\n",
    "m_count = 0\n",
    "tot_mutations=0\n",
    "\n",
    "for generation in pbar:\n",
    "    offspring = list()\n",
    "    for counter in range(OFFSPRING_SIZE):\n",
    "        if mutation:  \n",
    "            p = select_parent(population)\n",
    "            o = mutate(p)\n",
    "            m_count += 1\n",
    "            if m_count>=MUT_SPRINGS:\n",
    "                m_count=0\n",
    "                p_count=0\n",
    "                mutation=False\n",
    "        else:\n",
    "            pops = [select_parent(population) for _ in range(TOURNAMENT_SIZE)]\n",
    "            o = cut_multiple(pops)\n",
    "        offspring.append(o)\n",
    "\n",
    "    for i in offspring:\n",
    "        i.fitness = fitness(i.genotype)\n",
    "    population.extend(offspring)\n",
    "    population.sort(key=lambda i: i.fitness, reverse=True)\n",
    "    population = population[:POPULATION_SIZE]\n",
    "    if population[0].fitness <= best_fit:\n",
    "        p_count+=1\n",
    "    if p_count == PATIENCE:\n",
    "        mutation = True\n",
    "        tot_mutations+=1\n",
    "    best_fit = population[0].fitness\n",
    "    best_fitnesses.append(population[0].fitness)\n",
    "    pbar.set_postfix({f\"fitness\": f\"{best_fit:.2%}\", f\"calls\": f\"{fitness.calls}\"})\n",
    "    pbar.update(0)\n",
    "    if tot_mutations>50 or best_fit==1:\n",
    "        break\n",
    "    "
   ]
  },
  {
   "cell_type": "code",
   "execution_count": 215,
   "metadata": {},
   "outputs": [
    {
     "data": {
      "image/png": "[encoded data removed]",
      "text/plain": [
       "<Figure size 432x288 with 1 Axes>"
      ]
     },
     "metadata": {
      "needs_background": "light"
     },
     "output_type": "display_data"
    }
   ],
   "source": [
    "plot_fitness(best_fitnesses)"
   ]
  },
  {
   "cell_type": "code",
   "execution_count": null,
   "metadata": {},
   "outputs": [],
   "source": []
  }
 ],
 "metadata": {
  "kernelspec": {
   "display_name": "Python 3 (ipykernel)",
   "language": "python",
   "name": "python3"
  },
  "language_info": {
   "codemirror_mode": {
    "name": "ipython",
    "version": 3
   },
   "file_extension": ".py",
   "mimetype": "text/x-python",
   "name": "python",
   "nbconvert_exporter": "python",
   "pygments_lexer": "ipython3",
   "version": "3.10.12"
  }
 },
 "nbformat": 4,
 "nbformat_minor": 2
}
