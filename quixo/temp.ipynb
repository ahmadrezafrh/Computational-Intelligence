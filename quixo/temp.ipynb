{
 "cells": [
  {
   "cell_type": "code",
   "execution_count": 1,
   "id": "aeed2d78",
   "metadata": {},
   "outputs": [],
   "source": [
    "import os\n",
    "os.environ['TF_CPP_MIN_LOG_LEVEL'] = '3'\n",
    "\n",
    "from stable_baselines3.common.env_checker import check_env\n",
    "from game import Game, Move, Player\n",
    "from utils import play_game, evaluate\n",
    "from players import RandomPlayer, ValuePlayer, DeterministicPlayer, PPOPlayer\n",
    "from models import ValueClass, PPOWrapper, DQNWrapper, A2CWrapper\n",
    "from envs import QuixoEnv"
   ]
  },
  {
   "cell_type": "code",
   "execution_count": 2,
   "id": "db99b353",
   "metadata": {},
   "outputs": [
    {
     "name": "stdout",
     "output_type": "stream",
     "text": [
      "Winner: Player 0\n"
     ]
    }
   ],
   "source": [
    "rplayer = RandomPlayer()\n",
    "eplayer = ValuePlayer()\n",
    "play_game(eplayer, rplayer)"
   ]
  },
  {
   "cell_type": "code",
   "execution_count": 3,
   "id": "6a933274",
   "metadata": {},
   "outputs": [
    {
     "data": {
      "application/vnd.jupyter.widget-view+json": {
       "model_id": "2740f47512c7451490c651a54c33c56d",
       "version_major": 2,
       "version_minor": 0
      },
      "text/plain": [
       "  0%|          | 0/100 [00:00<?, ?it/s]"
      ]
     },
     "metadata": {},
     "output_type": "display_data"
    },
    {
     "name": "stdout",
     "output_type": "stream",
     "text": [
      "Value dictionary exists\n",
      "Value dictionary loaded\n"
     ]
    }
   ],
   "source": [
    "vd = ValueClass(rplayer, eplayer)\n",
    "vd.train(steps=100)\n",
    "vd.save()\n",
    "vd.load('./models/model.json')"
   ]
  },
  {
   "cell_type": "code",
   "execution_count": 4,
   "id": "7015fa05",
   "metadata": {},
   "outputs": [
    {
     "name": "stdout",
     "output_type": "stream",
     "text": [
      "env check: TRUE\n",
      "episode length: 12\n",
      "total reward: -19\n",
      "winner: player 0\n"
     ]
    }
   ],
   "source": [
    "env = QuixoEnv(player=0)\n",
    "try:\n",
    "    check_env(env)\n",
    "    print('env check: TRUE')\n",
    "except:\n",
    "    print('env check: FALSE')\n",
    "env.experiment()"
   ]
  },
  {
   "cell_type": "code",
   "execution_count": 5,
   "id": "73bff754",
   "metadata": {},
   "outputs": [
    {
     "data": {
      "text/html": [
       "<pre style=\"white-space:pre;overflow-x:auto;line-height:normal;font-family:Menlo,'DejaVu Sans Mono',consolas,'Courier New',monospace\"></pre>\n"
      ],
      "text/plain": [
       "\u001b[?25l"
      ]
     },
     "metadata": {},
     "output_type": "display_data"
    },
    {
     "data": {
      "application/vnd.jupyter.widget-view+json": {
       "model_id": "5655337cdd824e9486e77257a880bcd0",
       "version_major": 2,
       "version_minor": 0
      },
      "text/plain": [
       "Output()"
      ]
     },
     "metadata": {},
     "output_type": "display_data"
    },
    {
     "data": {
      "text/html": [
       "<pre style=\"white-space:pre;overflow-x:auto;line-height:normal;font-family:Menlo,'DejaVu Sans Mono',consolas,'Courier New',monospace\">\n",
       "</pre>\n"
      ],
      "text/plain": [
       "\n",
       "\u001b[?25h"
      ]
     },
     "metadata": {},
     "output_type": "display_data"
    },
    {
     "data": {
      "text/html": [
       "<pre style=\"white-space:pre;overflow-x:auto;line-height:normal;font-family:Menlo,'DejaVu Sans Mono',consolas,'Courier New',monospace\"></pre>\n"
      ],
      "text/plain": [
       "\u001b[?25l"
      ]
     },
     "metadata": {},
     "output_type": "display_data"
    },
    {
     "data": {
      "application/vnd.jupyter.widget-view+json": {
       "model_id": "ffce23af9b234d868d387c81c5c6959a",
       "version_major": 2,
       "version_minor": 0
      },
      "text/plain": [
       "Output()"
      ]
     },
     "metadata": {},
     "output_type": "display_data"
    },
    {
     "data": {
      "text/html": [
       "<pre style=\"white-space:pre;overflow-x:auto;line-height:normal;font-family:Menlo,'DejaVu Sans Mono',consolas,'Courier New',monospace\">\n",
       "</pre>\n"
      ],
      "text/plain": [
       "\n",
       "\u001b[?25h"
      ]
     },
     "metadata": {},
     "output_type": "display_data"
    },
    {
     "name": "stdout",
     "output_type": "stream",
     "text": [
      "\n",
      "\n",
      "playing first\n",
      "win percentage: 0.97\n",
      "total wrong actions: 4\n",
      "\n",
      "-----\n",
      "\n",
      "\n",
      "playing second\n",
      "win percentage: 0.94\n",
      "total wrong actions: 17\n",
      "\n",
      "-----\n"
     ]
    }
   ],
   "source": [
    "ppo = PPOWrapper()\n",
    "ppo.train(ts=3000, callbacks=1000, verbose=0)\n",
    "ppo.experiment()"
   ]
  },
  {
   "cell_type": "code",
   "execution_count": 6,
   "id": "6e8d61dc",
   "metadata": {},
   "outputs": [
    {
     "data": {
      "text/html": [
       "<pre style=\"white-space:pre;overflow-x:auto;line-height:normal;font-family:Menlo,'DejaVu Sans Mono',consolas,'Courier New',monospace\"></pre>\n"
      ],
      "text/plain": [
       "\u001b[?25l"
      ]
     },
     "metadata": {},
     "output_type": "display_data"
    },
    {
     "data": {
      "application/vnd.jupyter.widget-view+json": {
       "model_id": "ed733883bb634be2923ad1ffd22581ed",
       "version_major": 2,
       "version_minor": 0
      },
      "text/plain": [
       "Output()"
      ]
     },
     "metadata": {},
     "output_type": "display_data"
    },
    {
     "data": {
      "text/html": [
       "<pre style=\"white-space:pre;overflow-x:auto;line-height:normal;font-family:Menlo,'DejaVu Sans Mono',consolas,'Courier New',monospace\">\n",
       "</pre>\n"
      ],
      "text/plain": [
       "\n",
       "\u001b[?25h"
      ]
     },
     "metadata": {},
     "output_type": "display_data"
    },
    {
     "data": {
      "text/html": [
       "<pre style=\"white-space:pre;overflow-x:auto;line-height:normal;font-family:Menlo,'DejaVu Sans Mono',consolas,'Courier New',monospace\"></pre>\n"
      ],
      "text/plain": [
       "\u001b[?25l"
      ]
     },
     "metadata": {},
     "output_type": "display_data"
    },
    {
     "data": {
      "application/vnd.jupyter.widget-view+json": {
       "model_id": "0db21a2f44a34e8ca93a7ab5e7a7ac5b",
       "version_major": 2,
       "version_minor": 0
      },
      "text/plain": [
       "Output()"
      ]
     },
     "metadata": {},
     "output_type": "display_data"
    },
    {
     "data": {
      "text/html": [
       "<pre style=\"white-space:pre;overflow-x:auto;line-height:normal;font-family:Menlo,'DejaVu Sans Mono',consolas,'Courier New',monospace\">\n",
       "</pre>\n"
      ],
      "text/plain": [
       "\n",
       "\u001b[?25h"
      ]
     },
     "metadata": {},
     "output_type": "display_data"
    },
    {
     "name": "stdout",
     "output_type": "stream",
     "text": [
      "\n",
      "\n",
      "playing first\n",
      "win percentage: 0.63\n",
      "total wrong actions: 2\n",
      "\n",
      "-----\n",
      "\n",
      "\n",
      "playing second\n",
      "win percentage: 0.0\n",
      "total wrong actions: 33\n",
      "\n",
      "-----\n"
     ]
    }
   ],
   "source": [
    "dqn = DQNWrapper()\n",
    "dqn.train(ts=3000, callbacks=1000, verbose=0)\n",
    "dqn.experiment()"
   ]
  },
  {
   "cell_type": "code",
   "execution_count": 7,
   "id": "f7deac1a",
   "metadata": {},
   "outputs": [
    {
     "data": {
      "text/html": [
       "<pre style=\"white-space:pre;overflow-x:auto;line-height:normal;font-family:Menlo,'DejaVu Sans Mono',consolas,'Courier New',monospace\"></pre>\n"
      ],
      "text/plain": [
       "\u001b[?25l"
      ]
     },
     "metadata": {},
     "output_type": "display_data"
    },
    {
     "data": {
      "application/vnd.jupyter.widget-view+json": {
       "model_id": "7c4288c71434430791aa79435c7a4c0b",
       "version_major": 2,
       "version_minor": 0
      },
      "text/plain": [
       "Output()"
      ]
     },
     "metadata": {},
     "output_type": "display_data"
    },
    {
     "data": {
      "text/html": [
       "<pre style=\"white-space:pre;overflow-x:auto;line-height:normal;font-family:Menlo,'DejaVu Sans Mono',consolas,'Courier New',monospace\">\n",
       "</pre>\n"
      ],
      "text/plain": [
       "\n",
       "\u001b[?25h"
      ]
     },
     "metadata": {},
     "output_type": "display_data"
    },
    {
     "data": {
      "text/html": [
       "<pre style=\"white-space:pre;overflow-x:auto;line-height:normal;font-family:Menlo,'DejaVu Sans Mono',consolas,'Courier New',monospace\"></pre>\n"
      ],
      "text/plain": [
       "\u001b[?25l"
      ]
     },
     "metadata": {},
     "output_type": "display_data"
    },
    {
     "data": {
      "application/vnd.jupyter.widget-view+json": {
       "model_id": "11f184960b4a46929ae0c98b4b921cbc",
       "version_major": 2,
       "version_minor": 0
      },
      "text/plain": [
       "Output()"
      ]
     },
     "metadata": {},
     "output_type": "display_data"
    },
    {
     "data": {
      "text/html": [
       "<pre style=\"white-space:pre;overflow-x:auto;line-height:normal;font-family:Menlo,'DejaVu Sans Mono',consolas,'Courier New',monospace\">\n",
       "</pre>\n"
      ],
      "text/plain": [
       "\n",
       "\u001b[?25h"
      ]
     },
     "metadata": {},
     "output_type": "display_data"
    },
    {
     "name": "stdout",
     "output_type": "stream",
     "text": [
      "\n",
      "\n",
      "playing first\n",
      "win percentage: 0.82\n",
      "total wrong actions: 269\n",
      "\n",
      "-----\n",
      "\n",
      "\n",
      "playing second\n",
      "win percentage: 0.66\n",
      "total wrong actions: 519\n",
      "\n",
      "-----\n"
     ]
    }
   ],
   "source": [
    "a2c = A2CWrapper()\n",
    "a2c.train(ts=3000, callbacks=1000, verbose=0)\n",
    "a2c.experiment()"
   ]
  },
  {
   "cell_type": "code",
   "execution_count": 8,
   "id": "df2d0643",
   "metadata": {},
   "outputs": [
    {
     "data": {
      "application/vnd.jupyter.widget-view+json": {
       "model_id": "03999adcb97f48afa716cddc635b0d3e",
       "version_major": 2,
       "version_minor": 0
      },
      "text/plain": [
       "  0%|          | 0/200 [00:00<?, ?it/s]"
      ]
     },
     "metadata": {},
     "output_type": "display_data"
    },
    {
     "name": "stdout",
     "output_type": "stream",
     "text": [
      "TOTAL # of trials:             200\n",
      "WIN RATIO -- PLAYING FIRST:    0.88\n",
      "WIN RATIO -- PLAYING SECOND:   0.85\n",
      "TOTAL WIN RATIO:               0.865\n"
     ]
    }
   ],
   "source": [
    "eplayer = DeterministicPlayer()\n",
    "opponent = RandomPlayer()\n",
    "evaluate(eplayer,opponent, enum=100)"
   ]
  },
  {
   "cell_type": "code",
   "execution_count": 9,
   "id": "4d13fb91",
   "metadata": {},
   "outputs": [
    {
     "data": {
      "application/vnd.jupyter.widget-view+json": {
       "model_id": "18c015acfcf24d17a5cf6ed5a5e041e4",
       "version_major": 2,
       "version_minor": 0
      },
      "text/plain": [
       "  0%|          | 0/200 [00:00<?, ?it/s]"
      ]
     },
     "metadata": {},
     "output_type": "display_data"
    },
    {
     "name": "stdout",
     "output_type": "stream",
     "text": [
      "TOTAL # of trials:             200\n",
      "WIN RATIO -- PLAYING FIRST:    0.99\n",
      "WIN RATIO -- PLAYING SECOND:   0.9\n",
      "TOTAL WIN RATIO:               0.945\n"
     ]
    }
   ],
   "source": [
    "eplayer = PPOPlayer()\n",
    "opponent = RandomPlayer()\n",
    "evaluate(eplayer, opponent, enum=100)"
   ]
  }
 ],
 "metadata": {
  "kernelspec": {
   "display_name": "Python 3 (ipykernel)",
   "language": "python",
   "name": "python3"
  },
  "language_info": {
   "codemirror_mode": {
    "name": "ipython",
    "version": 3
   },
   "file_extension": ".py",
   "mimetype": "text/x-python",
   "name": "python",
   "nbconvert_exporter": "python",
   "pygments_lexer": "ipython3",
   "version": "3.10.12"
  }
 },
 "nbformat": 4,
 "nbformat_minor": 5
}
