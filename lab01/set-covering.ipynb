{
 "cells": [
  {
   "cell_type": "markdown",
   "id": "b5544777",
   "metadata": {},
   "source": [
    "## Set Covering\n",
    "\n",
    "In the first part, I try to analyze professor's method for optimising this problem. After analysis I try to optimize the code and propose new methods that can be used."
   ]
  },
  {
   "cell_type": "code",
   "execution_count": 12,
   "id": "3e6a667f",
   "metadata": {},
   "outputs": [],
   "source": [
    "from random import random\n",
    "from math import ceil\n",
    "from functools import reduce\n",
    "from collections import namedtuple, deque\n",
    "from queue import PriorityQueue\n",
    "\n",
    "import numpy as np\n",
    "from tqdm.auto import tqdm"
   ]
  },
  {
   "cell_type": "code",
   "execution_count": 13,
   "id": "77e3dc39",
   "metadata": {},
   "outputs": [],
   "source": [
    "State = namedtuple('State', ['taken', 'not_taken'])\n",
    "\n",
    "\n",
    "def covered(state):\n",
    "    return reduce(\n",
    "        np.logical_or,\n",
    "        [SETS[i] for i in state.taken],\n",
    "        np.array([False for _ in range(PROBLEM_SIZE)]),\n",
    "    )\n",
    "\n",
    "\n",
    "def goal_check(state):\n",
    "    return np.all(covered(state))"
   ]
  },
  {
   "cell_type": "markdown",
   "id": "f9edde3d",
   "metadata": {},
   "source": [
    "Three approaches have been used to address this problem:\n",
    "\n",
    "### 1- Depth First\n",
    "This algorithm starts at the root (top) node of a tree and goes as far as it can down a given branch (path), then backtracks until it finds an unexplored path, and then explores it.\n",
    "### 2- Breadth First\n",
    "It starts at the tree root and explores all nodes at the present depth prior to moving on to the nodes at the next depth level. Extra memory, usually a queue, is needed to keep track of the child nodes that were encountered but not yet explored.\n",
    "### 3- Greedy Best First\n",
    "The algorithm works by using a heuristic function to determine which path is the most promising. The heuristic function takes into account the cost of the current path and the estimated cost of the remaining paths. If the cost of the current path is lower than the estimated cost of the remaining paths, then the current path is chosen. This process is repeated until the goal is reached."
   ]
  },
  {
   "cell_type": "code",
   "execution_count": 14,
   "id": "47bdcc8a",
   "metadata": {},
   "outputs": [],
   "source": [
    "PROBLEM_SIZE = 20\n",
    "NUM_SETS = 40\n",
    "SETS = tuple(np.array([random() < 0.2 for _ in range(PROBLEM_SIZE)]) for _ in range(NUM_SETS))\n",
    "assert goal_check(State(set(range(NUM_SETS)), set())), \"Probelm not solvable\""
   ]
  },
  {
   "cell_type": "markdown",
   "id": "507bb537",
   "metadata": {},
   "source": [
    "## Depth First"
   ]
  },
  {
   "cell_type": "code",
   "execution_count": 15,
   "id": "ba70606d",
   "metadata": {},
   "outputs": [
    {
     "data": {
      "application/vnd.jupyter.widget-view+json": {
       "model_id": "af3eb33803ad4ccea5308cc46da1dd27",
       "version_major": 2,
       "version_minor": 0
      },
      "text/plain": [
       "0it [00:00, ?it/s]"
      ]
     },
     "metadata": {},
     "output_type": "display_data"
    },
    {
     "name": "stdout",
     "output_type": "stream",
     "text": [
      "Depth first solved in 13 steps (13 tiles)\n"
     ]
    }
   ],
   "source": [
    "frontier = deque()\n",
    "state = State(set(), set(range(NUM_SETS)))\n",
    "frontier.append(state)\n",
    "\n",
    "counter = 0\n",
    "current_state = frontier.pop()\n",
    "\n",
    "with tqdm(total=None) as pbar:\n",
    "    while not goal_check(current_state):\n",
    "        counter += 1\n",
    "        for action in current_state[1]:\n",
    "            new_state = State(\n",
    "                current_state.taken ^ {action},\n",
    "                current_state.not_taken ^ {action},\n",
    "            )\n",
    "            frontier.append(new_state)\n",
    "        current_state = frontier.pop()\n",
    "\n",
    "\n",
    "print(f\"Depth first solved in {counter:,} steps ({len(current_state.taken)} tiles)\")"
   ]
  },
  {
   "cell_type": "markdown",
   "id": "e2eed07d",
   "metadata": {},
   "source": [
    "## Breadth First"
   ]
  },
  {
   "cell_type": "code",
   "execution_count": 5,
   "id": "55d2bfe3",
   "metadata": {},
   "outputs": [
    {
     "data": {
      "application/vnd.jupyter.widget-view+json": {
       "model_id": "c382177b4c2f45349ee3be73aeaa9583",
       "version_major": 2,
       "version_minor": 0
      },
      "text/plain": [
       "0it [00:00, ?it/s]"
      ]
     },
     "metadata": {},
     "output_type": "display_data"
    },
    {
     "ename": "KeyboardInterrupt",
     "evalue": "",
     "output_type": "error",
     "traceback": [
      "\u001b[0;31m---------------------------------------------------------------------------\u001b[0m",
      "\u001b[0;31mKeyboardInterrupt\u001b[0m                         Traceback (most recent call last)",
      "Cell \u001b[0;32mIn[5], line 11\u001b[0m\n\u001b[1;32m      9\u001b[0m counter \u001b[38;5;241m+\u001b[39m\u001b[38;5;241m=\u001b[39m \u001b[38;5;241m1\u001b[39m\n\u001b[1;32m     10\u001b[0m \u001b[38;5;28;01mfor\u001b[39;00m action \u001b[38;5;129;01min\u001b[39;00m current_state[\u001b[38;5;241m1\u001b[39m]:\n\u001b[0;32m---> 11\u001b[0m     new_state \u001b[38;5;241m=\u001b[39m \u001b[43mState\u001b[49m\u001b[43m(\u001b[49m\n\u001b[1;32m     12\u001b[0m \u001b[43m        \u001b[49m\u001b[43mcurrent_state\u001b[49m\u001b[38;5;241;43m.\u001b[39;49m\u001b[43mtaken\u001b[49m\u001b[43m \u001b[49m\u001b[38;5;241;43m^\u001b[39;49m\u001b[43m \u001b[49m\u001b[43m{\u001b[49m\u001b[43maction\u001b[49m\u001b[43m}\u001b[49m\u001b[43m,\u001b[49m\n\u001b[1;32m     13\u001b[0m \u001b[43m        \u001b[49m\u001b[43mcurrent_state\u001b[49m\u001b[38;5;241;43m.\u001b[39;49m\u001b[43mnot_taken\u001b[49m\u001b[43m \u001b[49m\u001b[38;5;241;43m^\u001b[39;49m\u001b[43m \u001b[49m\u001b[43m{\u001b[49m\u001b[43maction\u001b[49m\u001b[43m}\u001b[49m\u001b[43m,\u001b[49m\n\u001b[1;32m     14\u001b[0m \u001b[43m    \u001b[49m\u001b[43m)\u001b[49m\n\u001b[1;32m     15\u001b[0m     frontier\u001b[38;5;241m.\u001b[39mappend(new_state)\n\u001b[1;32m     16\u001b[0m current_state \u001b[38;5;241m=\u001b[39m frontier\u001b[38;5;241m.\u001b[39mpopleft()\n",
      "File \u001b[0;32m<string>:1\u001b[0m, in \u001b[0;36m<lambda>\u001b[0;34m(_cls, taken, not_taken)\u001b[0m\n",
      "\u001b[0;31mKeyboardInterrupt\u001b[0m: "
     ]
    }
   ],
   "source": [
    "'''\n",
    "Due to the high computational cost I was not able to calculate the Breadth First search.\n",
    "'''\n",
    "\n",
    "\n",
    "\n",
    "frontier = deque()\n",
    "state = State(set(), set(range(NUM_SETS)))\n",
    "frontier.append(state)\n",
    "\n",
    "counter = 0\n",
    "current_state = frontier.popleft()\n",
    "with tqdm(total=None) as pbar:\n",
    "    while not goal_check(current_state):\n",
    "        counter += 1\n",
    "        for action in current_state[1]:\n",
    "            new_state = State(\n",
    "                current_state.taken ^ {action},\n",
    "                current_state.not_taken ^ {action},\n",
    "            )\n",
    "            frontier.append(new_state)\n",
    "        current_state = frontier.popleft()\n",
    "        pbar.update(1)\n",
    "\n",
    "print(f\"Breadth First solved in {counter:,} steps ({len(current_state.taken)} tiles)\")\n",
    "\n",
    "\n",
    "\n",
    "\n"
   ]
  },
  {
   "cell_type": "markdown",
   "id": "5dd8bdfd",
   "metadata": {},
   "source": [
    "## Greedy Best First"
   ]
  },
  {
   "cell_type": "code",
   "execution_count": 16,
   "id": "55696ea6",
   "metadata": {},
   "outputs": [],
   "source": [
    "def f(state):\n",
    "    missing_size = PROBLEM_SIZE - sum(covered(state))\n",
    "    return missing_size"
   ]
  },
  {
   "cell_type": "code",
   "execution_count": 17,
   "id": "041fb431",
   "metadata": {},
   "outputs": [
    {
     "data": {
      "application/vnd.jupyter.widget-view+json": {
       "model_id": "523c7ea1bc6e42c7a4fecca91ad015c5",
       "version_major": 2,
       "version_minor": 0
      },
      "text/plain": [
       "0it [00:00, ?it/s]"
      ]
     },
     "metadata": {},
     "output_type": "display_data"
    },
    {
     "name": "stdout",
     "output_type": "stream",
     "text": [
      "Greedy Best First solved in 5 steps (5 tiles)\n"
     ]
    }
   ],
   "source": [
    "frontier = PriorityQueue()\n",
    "state = State(set(), set(range(NUM_SETS)))\n",
    "frontier.put((f(state), state))\n",
    "\n",
    "counter = 0\n",
    "_, current_state = frontier.get()\n",
    "with tqdm(total=None) as pbar:\n",
    "    while not goal_check(current_state):\n",
    "        counter += 1\n",
    "        for action in current_state[1]:\n",
    "            new_state = State(\n",
    "                current_state.taken ^ {action},\n",
    "                current_state.not_taken ^ {action},\n",
    "            )\n",
    "            frontier.put((f(new_state), new_state))\n",
    "        _, current_state = frontier.get()\n",
    "        pbar.update(1)\n",
    "\n",
    "print(f\"Greedy Best First solved in {counter:,} steps ({len(current_state.taken)} tiles)\")"
   ]
  },
  {
   "cell_type": "markdown",
   "id": "3de25995",
   "metadata": {},
   "source": [
    "## A*"
   ]
  },
  {
   "cell_type": "code",
   "execution_count": 18,
   "id": "9892620d",
   "metadata": {},
   "outputs": [],
   "source": [
    "def h_by_professor(state):\n",
    "    already_covered = covered(state)\n",
    "    if np.all(already_covered):\n",
    "        return 0\n",
    "    missing_size = PROBLEM_SIZE - sum(already_covered)\n",
    "    candidates = sorted((sum(np.logical_and(s, np.logical_not(already_covered))) for s in SETS), reverse=True)\n",
    "    taken = 1\n",
    "    while sum(candidates[:taken]) < missing_size:\n",
    "        taken += 1\n",
    "    return taken\n",
    "\n",
    "\n",
    "def f_by_professor(state):\n",
    "    return len(state.taken) + h_by_professor(state)"
   ]
  },
  {
   "cell_type": "code",
   "execution_count": 19,
   "id": "3a1b2563",
   "metadata": {},
   "outputs": [
    {
     "data": {
      "application/vnd.jupyter.widget-view+json": {
       "model_id": "3b4de5b133f34413a4f2a9453e99064a",
       "version_major": 2,
       "version_minor": 0
      },
      "text/plain": [
       "0it [00:00, ?it/s]"
      ]
     },
     "metadata": {},
     "output_type": "display_data"
    },
    {
     "name": "stdout",
     "output_type": "stream",
     "text": [
      "A_star objective by professor solved in 443 steps (5 tiles)\n"
     ]
    }
   ],
   "source": [
    "frontier = PriorityQueue()\n",
    "state = State(set(), set(range(NUM_SETS)))\n",
    "frontier.put((f_by_professor(state), state))\n",
    "\n",
    "counter = 0\n",
    "_, current_state = frontier.get()\n",
    "with tqdm(total=None) as pbar:\n",
    "    while not goal_check(current_state):\n",
    "        counter += 1\n",
    "        for action in current_state[1]:\n",
    "            new_state = State(\n",
    "                current_state.taken ^ {action},\n",
    "                current_state.not_taken ^ {action},\n",
    "            )\n",
    "            frontier.put((f_by_professor(new_state), new_state))\n",
    "        _, current_state = frontier.get()\n",
    "        pbar.update(1)\n",
    "        \n",
    "        \n",
    "print(f\"A_star objective by professor solved in {counter:,} steps ({len(current_state.taken)} tiles)\")"
   ]
  },
  {
   "cell_type": "markdown",
   "id": "351aa5c5",
   "metadata": {},
   "source": [
    "single_state() function just considers covered status of one single selected set."
   ]
  },
  {
   "cell_type": "code",
   "execution_count": 20,
   "id": "f556a543",
   "metadata": {},
   "outputs": [],
   "source": [
    "def single_state(number, num_sets):\n",
    "    state = State(set({number}), set(range(num_sets)))\n",
    "    state.not_taken.remove(number)\n",
    "    return state"
   ]
  },
  {
   "cell_type": "markdown",
   "id": "cdce720e",
   "metadata": {},
   "source": [
    "### LAB01 Assignment\n",
    "I tried to create my own optimum A* to minimize the tiles. In this function I minimize number of True labels existed in current covered indexes existed in not taken states. I also tried to minimize number of False labels in current not covered indexes exists in not taken states.\n",
    "\n",
    "We have good results and in some cases number of tiles are lower than the first greedy best approach. It also outperforms the proposed cost function by professor."
   ]
  },
  {
   "cell_type": "code",
   "execution_count": 21,
   "id": "f5f5585b",
   "metadata": {},
   "outputs": [],
   "source": [
    "def h_proposed(state):\n",
    "    coverd_problems = covered(state)\n",
    "    not_covered_indexes = np.where(np.logical_not(coverd_problems))[0]\n",
    "    covered_indexes = np.where(coverd_problems)[0]\n",
    "    not_taken_states = state.not_taken\n",
    "    missing_size = PROBLEM_SIZE - sum(covered(state))\n",
    "    \n",
    "    tot_false_not_covered = 0\n",
    "    tot_truth_covered = 0\n",
    "    for ind_state in not_taken_states:\n",
    "        tot_false_not_covered += sum(np.logical_not([covered(single_state(ind_state, NUM_SETS))[n] for n in not_covered_indexes]))\n",
    "        tot_truth_covered += sum([covered(single_state(ind_state, NUM_SETS))[n] for n in covered_indexes])\n",
    "        \n",
    "    return len(state.taken) + tot_truth_covered + tot_false_not_covered"
   ]
  },
  {
   "cell_type": "code",
   "execution_count": 22,
   "id": "c50b7794",
   "metadata": {},
   "outputs": [
    {
     "data": {
      "application/vnd.jupyter.widget-view+json": {
       "model_id": "9a18947bd11b4f98b5621c6d3eebaac8",
       "version_major": 2,
       "version_minor": 0
      },
      "text/plain": [
       "0it [00:00, ?it/s]"
      ]
     },
     "metadata": {},
     "output_type": "display_data"
    },
    {
     "name": "stdout",
     "output_type": "stream",
     "text": [
      "A_star objective by me solved in 5 steps (5 tiles)\n"
     ]
    }
   ],
   "source": [
    "frontier = PriorityQueue()\n",
    "state = State(set(), set(range(NUM_SETS)))\n",
    "frontier.put((h_proposed(state), state))\n",
    "\n",
    "counter = 0\n",
    "_, current_state = frontier.get()\n",
    "with tqdm(total=None) as pbar:\n",
    "    while not goal_check(current_state):\n",
    "        counter += 1\n",
    "        for action in current_state[1]:\n",
    "            new_state = State(\n",
    "                current_state.taken ^ {action},\n",
    "                current_state.not_taken ^ {action},\n",
    "            )\n",
    "            frontier.put((h_proposed(new_state), new_state))\n",
    "        _, current_state = frontier.get()\n",
    "        pbar.update(1)\n",
    "\n",
    "print(f\"A_star objective by me solved in {counter:,} steps ({len(current_state.taken)} tiles)\")"
   ]
  },
  {
   "cell_type": "markdown",
   "id": "acecd7cb",
   "metadata": {},
   "source": [
    "### Reviewing other students work\n",
    "In this section I try to test other students A* and compare the results with myself. "
   ]
  },
  {
   "cell_type": "code",
   "execution_count": 25,
   "id": "066c966a",
   "metadata": {},
   "outputs": [
    {
     "data": {
      "application/vnd.jupyter.widget-view+json": {
       "model_id": "9a097f2d997a46b1a005c7a8d8d98dcc",
       "version_major": 2,
       "version_minor": 0
      },
      "text/plain": [
       "0it [00:00, ?it/s]"
      ]
     },
     "metadata": {},
     "output_type": "display_data"
    },
    {
     "name": "stdout",
     "output_type": "stream",
     "text": [
      "Solved in 443 steps (5 tiles)\n"
     ]
    }
   ],
   "source": [
    "'''\n",
    "Ferrigno - s316467\n",
    "'''\n",
    "def h(state):\n",
    "    already_covered = covered(state)\n",
    "    if np.all(already_covered):\n",
    "        return 0\n",
    "    missing_elements = PROBLEM_SIZE - np.sum(already_covered)\n",
    "    average_set_size = np.mean([np.sum(s) for s in SETS])\n",
    "    return missing_elements / average_set_size\n",
    "\n",
    "def fProf(state):\n",
    "    return len(state.taken) + hProf(state)\n",
    "\n",
    "def f(state):\n",
    "    return len(state.taken) + h(state)\n",
    "\n",
    "\n",
    "\n",
    "\n",
    "\n",
    "frontier = PriorityQueue()\n",
    "state = State(set(), set(range(NUM_SETS)))\n",
    "frontier.put((f(state), state))\n",
    "\n",
    "counter = 0\n",
    "_, current_state = frontier.get()\n",
    "with tqdm(total=None) as pbar:\n",
    "    while not goal_check(current_state):\n",
    "        counter += 1\n",
    "        for action in current_state[1]:\n",
    "            new_state = State(\n",
    "                current_state.taken ^ {action},\n",
    "                current_state.not_taken ^ {action},\n",
    "            )\n",
    "            frontier.put((f(new_state), new_state))\n",
    "        _, current_state = frontier.get()\n",
    "        pbar.update(1)\n",
    "\n",
    "print(f\"Solved in {counter:,} steps ({len(current_state.taken)} tiles)\")"
   ]
  },
  {
   "cell_type": "code",
   "execution_count": 30,
   "id": "32afea6d",
   "metadata": {},
   "outputs": [
    {
     "data": {
      "application/vnd.jupyter.widget-view+json": {
       "model_id": "a744b15060354191bcf38832b72e6df4",
       "version_major": 2,
       "version_minor": 0
      },
      "text/plain": [
       "0it [00:00, ?it/s]"
      ]
     },
     "metadata": {},
     "output_type": "display_data"
    },
    {
     "name": "stdout",
     "output_type": "stream",
     "text": [
      "Solved in 520 steps (16 tiles)\n"
     ]
    }
   ],
   "source": [
    "'''\n",
    "Tilocca - s305938\n",
    "'''\n",
    "\n",
    "\n",
    "def array_with_more_true(arrays, missing):\n",
    "    num_true_per_array = [np.count_nonzero(array) for array in arrays]#create a vector with number of cell true \n",
    "    array_with_count = list(zip(arrays, num_true_per_array))#create an array with sets, n_true\n",
    "    array_with_count.sort(key=lambda x: x[1], reverse=True)#reorder\n",
    "    element_in_arrays = [x[1] for x in array_with_count]\n",
    "    cnt=0#cnt si incrementa fino a che non copro tutte le missing size\n",
    "    cov=missing\n",
    "    for i in element_in_arrays:\n",
    "       if missing>0:\n",
    "           cnt+=1\n",
    "           missing=missing-i\n",
    "    top_n_arrays = [x[0] for x in array_with_count[:cnt]]\n",
    "\n",
    "    return top_n_arrays,cnt\n",
    "\n",
    "def covered(state):\n",
    "    return reduce(\n",
    "        np.logical_or,\n",
    "        [SETS[i] for i in state.taken],\n",
    "        np.array([False for _ in range(PROBLEM_SIZE)]),\n",
    "    )\n",
    "\n",
    "def h(state):\n",
    "    \n",
    "    missing_size = PROBLEM_SIZE - sum(covered(state))\n",
    "    x=tuple(SETS[i] for i in state.not_taken)\n",
    "    _,optimistic_estimate=array_with_more_true(x,missing_size)\n",
    "    return optimistic_estimate\n",
    "\n",
    "\n",
    "\n",
    "\n",
    "#we need a queue that is the frontier\n",
    "frontier=PriorityQueue()\n",
    "#define the initial state\n",
    "frontier.put(State(set(),set(range(NUM_SETS))))\n",
    "current_state=frontier.get()\n",
    "contatore=0\n",
    "with tqdm(total=None) as pbar:\n",
    "    while not goal_check(current_state):\n",
    "        for action in current_state[1]:\n",
    "         contatore+=1\n",
    "         new_state=State (current_state.taken ^ {action}, current_state.not_taken ^{action})\n",
    "\n",
    "         frontier.put((((h(new_state)-len(new_state.taken))),new_state))\n",
    "        _,current_state=frontier.get()\n",
    "        pbar.update(1)\n",
    "\n",
    "    \n",
    "print(f\"Solved in {contatore:,} steps ({len(current_state.taken)} tiles)\")\n"
   ]
  },
  {
   "cell_type": "markdown",
   "id": "7365dfb5",
   "metadata": {},
   "source": [
    "### Summary\n",
    "\n",
    "    1- Depth First:                                  13  steps (13 tiles)\n",
    "    2- Greedy Best First:                            5   steps (5 tiles)\n",
    "    3- Professor Method (admissible heuristic):      443 steps (5 tiles)\n",
    "    4- My Method:                                    5   steps (5 tiles)\n",
    "    "
   ]
  }
 ],
 "metadata": {
  "kernelspec": {
   "display_name": "Python 3 (ipykernel)",
   "language": "python",
   "name": "python3"
  },
  "language_info": {
   "codemirror_mode": {
    "name": "ipython",
    "version": 3
   },
   "file_extension": ".py",
   "mimetype": "text/x-python",
   "name": "python",
   "nbconvert_exporter": "python",
   "pygments_lexer": "ipython3",
   "version": "3.10.12"
  }
 },
 "nbformat": 4,
 "nbformat_minor": 5
}
